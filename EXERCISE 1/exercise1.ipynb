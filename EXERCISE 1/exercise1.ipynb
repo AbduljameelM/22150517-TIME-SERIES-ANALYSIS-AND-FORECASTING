{
 "cells": [
  {
   "cell_type": "code",
   "execution_count": 41,
   "id": "716b8343",
   "metadata": {},
   "outputs": [],
   "source": [
    "import pandas as pd\n",
    "\n",
    "# Load the dataset (replace with your file path)\n",
    "df = pd.read_csv(r'C:\\Users\\Lenovo\\Downloads\\crude-oil-price.csv')  # Update the path to your dataset\n"
   ]
  },
  {
   "cell_type": "code",
   "execution_count": 42,
   "id": "c928780e",
   "metadata": {},
   "outputs": [],
   "source": [
    "# Convert the 'date' column to datetime format\n",
    "df['date'] = pd.to_datetime(df['date'], errors='coerce')  # Convert 'date' to datetime format\n"
   ]
  },
  {
   "cell_type": "code",
   "execution_count": 43,
   "id": "0a1f1df1",
   "metadata": {},
   "outputs": [],
   "source": [
    "# Remove rows with missing 'date' or 'price' values\n",
    "df_cleaned = df.dropna(subset=['date', 'price'])\n"
   ]
  },
  {
   "cell_type": "code",
   "execution_count": 44,
   "id": "986010e1",
   "metadata": {},
   "outputs": [
    {
     "data": {
      "image/png": "[encoded data removed]",
      "text/plain": [
       "<Figure size 576x432 with 1 Axes>"
      ]
     },
     "metadata": {
      "needs_background": "light"
     },
     "output_type": "display_data"
    }
   ],
   "source": [
    "import matplotlib.pyplot as plt\n",
    "import seaborn as sns\n",
    "\n",
    "# Plot the oil prices as a histogram (Bar Plot)\n",
    "plt.figure(figsize=(8,6))  # Set figure size\n",
    "sns.histplot(df_cleaned['price'], bins=20, kde=False, color='blue')  # Histogram plot\n",
    "plt.title('Distribution of Crude Oil Prices')  # Title of the plot\n",
    "plt.xlabel('Price ($)')  # Label for the x-axis\n",
    "plt.ylabel('Frequency')  # Label for the y-axis\n",
    "plt.show()  # Display the histogram plot\n"
   ]
  },
  {
   "cell_type": "code",
   "execution_count": 45,
   "id": "d7443315",
   "metadata": {},
   "outputs": [],
   "source": [
    "import numpy as np\n",
    "\n",
    "# Create a log-transformed feature of the price\n",
    "df_cleaned['log_price'] = np.log(df_cleaned['price'])  # Log transformation of 'price'\n"
   ]
  },
  {
   "cell_type": "code",
   "execution_count": 46,
   "id": "c42eaccb",
   "metadata": {},
   "outputs": [],
   "source": [
    "# Convert 'date' to ordinal (numeric format)\n",
    "df_cleaned['date_ordinal'] = df_cleaned['date'].apply(lambda x: x.toordinal())  # Convert 'date' to ordinal (numeric format)\n",
    "\n",
    "# Features (X) and target (y)\n",
    "X = df_cleaned[['date_ordinal']]  # Features: date in numeric form\n",
    "y = df_cleaned['price']  # Target: price\n",
    "\n",
    "# Split the dataset into training and testing sets (80% train, 20% test)\n",
    "from sklearn.model_selection import train_test_split\n",
    "\n",
    "X_train, X_test, y_train, y_test = train_test_split(X, y, test_size=0.2, random_state=42)\n"
   ]
  },
  {
   "cell_type": "code",
   "execution_count": 47,
   "id": "a94e53b9",
   "metadata": {},
   "outputs": [
    {
     "data": {
      "text/plain": [
       "LinearRegression()"
      ]
     },
     "execution_count": 47,
     "metadata": {},
     "output_type": "execute_result"
    }
   ],
   "source": [
    "from sklearn.linear_model import LinearRegression\n",
    "\n",
    "# Train a Linear Regression model\n",
    "model = LinearRegression()\n",
    "model.fit(X_train, y_train)\n"
   ]
  },
  {
   "cell_type": "code",
   "execution_count": 49,
   "id": "ee0814a1",
   "metadata": {},
   "outputs": [
    {
     "name": "stdout",
     "output_type": "stream",
     "text": [
      "RMSE: 20.95\n"
     ]
    }
   ],
   "source": [
    "from sklearn.metrics import mean_squared_error\n",
    "import numpy as np\n",
    "\n",
    "# Calculate RMSE (Root Mean Squared Error)\n",
    "rmse = np.sqrt(mean_squared_error(y_test, y_pred))\n",
    "print(f'RMSE: {rmse:.2f}')  # Print the RMSE\n"
   ]
  },
  {
   "cell_type": "code",
   "execution_count": null,
   "id": "6e00de15",
   "metadata": {},
   "outputs": [],
   "source": []
  }
 ],
 "metadata": {
  "kernelspec": {
   "display_name": "Python 3 (ipykernel)",
   "language": "python",
   "name": "python3"
  },
  "language_info": {
   "codemirror_mode": {
    "name": "ipython",
    "version": 3
   },
   "file_extension": ".py",
   "mimetype": "text/x-python",
   "name": "python",
   "nbconvert_exporter": "python",
   "pygments_lexer": "ipython3",
   "version": "3.9.12"
  }
 },
 "nbformat": 4,
 "nbformat_minor": 5
}
